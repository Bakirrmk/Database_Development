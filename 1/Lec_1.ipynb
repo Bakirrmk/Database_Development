{
 "cells": [
  {
   "cell_type": "markdown",
   "id": "01c506c1-0be1-4290-96a9-416fbe4be5b3",
   "metadata": {},
   "source": [
    "<b>Что такое система управления базами данных? (СУБД)</b>"
   ]
  },
  {
   "cell_type": "markdown",
   "id": "6a392988-6cb2-46b6-9e0c-2211fd3306cb",
   "metadata": {},
   "source": [
    "Система управления базами данных (СУБД) — это программное обеспечение, которое позволяет пользователям определять, создавать, поддерживать и контролировать доступ к базам данных."
   ]
  },
  {
   "cell_type": "markdown",
   "id": "da06c4cd-acfd-4c3d-bdea-f56faca3f424",
   "metadata": {},
   "source": [
    "Вот разбивка по шагам того, что делает СУБД:\n",
    "\n",
    "- СУБД позволяет пользователям определять структуру базы данных, включая типы данных, отношения между таблицами и ограничения целостности.\n",
    "- СУБД предоставляет инструменты для создания базы данных и ее таблиц.\n",
    "- СУБД позволяет пользователям добавлять, обновлять и удалять данные в базе данных.\n",
    "- СУБД обеспечивает механизмы для управления доступом к базе данных, чтобы гарантировать, что только авторизованные пользователи могут получать доступ к данным и изменять их."
   ]
  },
  {
   "cell_type": "markdown",
   "id": "90b1ae05-f5dd-4b36-8d16-d3837d66983c",
   "metadata": {},
   "source": [
    "Некоторые примеры популярных СУБД включают MySQL, PostgreSQL, Oracle Database, Microsoft SQL Server и MongoDB."
   ]
  },
  {
   "cell_type": "markdown",
   "id": "a863674f-313c-4e97-9df7-d983d732c871",
   "metadata": {},
   "source": [
    "<b>Нормализация</b>"
   ]
  },
  {
   "cell_type": "markdown",
   "id": "0b026eaf-6ec6-4949-a863-e988aebd87ac",
   "metadata": {},
   "source": [
    "Нормализация - это процесс организации данных в базе данных для уменьшения избыточности и повышения целостности данных. Существует несколько уровней нормализации, называемых нормальными формами.\n",
    "    \n",
    "Основные нормальные формы:\n",
    "    \n",
    "- Первая нормальная форма (1NF): все атрибуты таблицы должны быть атомарными (неделимыми).\n",
    "- Вторая нормальная форма (2NF): все неключевые атрибуты должны полностью зависеть от первичного ключа.\n",
    "- Третья нормальная форма (3NF): все неключевые атрибуты должны зависеть только от первичного ключа, а не от других неключевых атрибутов."
   ]
  },
  {
   "cell_type": "markdown",
   "id": "936b91e4-8afd-487d-9080-3f3b3f5e301b",
   "metadata": {},
   "source": [
    "<b>Виды баз данных</b>"
   ]
  },
  {
   "cell_type": "markdown",
   "id": "c8633b1f-ee27-4287-962a-bd8253226409",
   "metadata": {},
   "source": [
    "Существует несколько видов баз данных, включая:\n",
    "\n",
    "- Реляционные базы данных: данные хранятся в таблицах, связанных между собой отношениями.\n",
    "- NoSQL базы данных: данные хранятся в неструктурированном или полуструктурированном формате.\n",
    "- Объектно-ориентированные базы данных: данные хранятся в виде объектов."
   ]
  },
  {
   "cell_type": "markdown",
   "id": "c0f04f51-946b-45fb-84de-a1b03402b4cd",
   "metadata": {},
   "source": [
    "<b>Связи между таблицами</b>"
   ]
  },
  {
   "cell_type": "markdown",
   "id": "04d7a78c-e893-41e8-b623-ebf41610affd",
   "metadata": {},
   "source": [
    "В реляционных базах данных таблицы связаны между собой с помощью внешних ключей.\n",
    "Основные типы связей:\n",
    "\n",
    "- Один ко многим: один запись в одной таблице может быть связана со многими записями в другой таблице.\n",
    "- Многие ко многим: многие записи в одной таблице могут быть связаны со многими записями в другой таблице.\n",
    "- Один к одному: одна запись в одной таблице может быть связана только с одной записью в другой таблице."
   ]
  },
  {
   "cell_type": "markdown",
   "id": "de6daff5-7773-4506-85fe-5fea7be633f4",
   "metadata": {},
   "source": [
    "<b>Создание базы данных и таблицы</b>"
   ]
  },
  {
   "cell_type": "markdown",
   "id": "4c8cfc82-59f4-4135-a59c-811ddce7a71a",
   "metadata": {},
   "source": [
    "В Jupiter Notebook для того чтобы создать базу данных, для начала мы должны подключиться к sql server\n",
    "Конечно же перед этим мы еще должны установить pip install psycopg2"
   ]
  },
  {
   "cell_type": "code",
   "execution_count": null,
   "id": "b67294c7-e428-4e5e-b9b0-9e4a658ee0db",
   "metadata": {},
   "outputs": [],
   "source": [
    "# Команда для подключения к серверу\n",
    "import psycopg2\n",
    "\n",
    "conn = psycopg2.connect(dbname=\"IMDB_DB\", user=\"postgres\", password=\"123\", host=\"127.0.0.1\")\n",
    "cursor = conn.cursor()\n",
    "conn.autocommit = True"
   ]
  },
  {
   "cell_type": "code",
   "execution_count": null,
   "id": "ac7250ff-8dde-4a48-8539-00e309591a0e",
   "metadata": {},
   "outputs": [],
   "source": [
    "# Теперь можем создать таблицу\n",
    "cursor.execute(\"CREATE TABLE people (id SERIAL PRIMARY KEY, name VARCHAR(50), age INTEGER)\")\n",
    "# Подтверждаем транзакцию\n",
    "conn.commit()\n",
    "\n",
    "print(\"Таблица people успешно создана\")\n",
    "\n",
    "cursor.close()\n",
    "conn.close()"
   ]
  },
  {
   "cell_type": "code",
   "execution_count": null,
   "id": "dc1f6826-0bc9-4143-ab87-a0b689e7f78f",
   "metadata": {},
   "outputs": [],
   "source": [
    "# Так же давайте добавим данные в нашу таблицу people\n",
    "import psycopg2\n",
    "\n",
    "conn = psycopg2.connect(dbname=\"IMDB_DB\", user=\"postgres\", password=\"123\", host=\"127.0.0.1\")\n",
    "cursor = conn.cursor()\n",
    "\n",
    "#Добавляем строку в таблицу people\n",
    "cursor.execute(\"INSERT INTO people (name, age) VALUES ('Tom', 38)\")\n",
    "#Выполняем транзакцию\n",
    "conn.commit()\n",
    "print(\"Данные добавлены\")\n",
    "\n",
    "cursor.close()\n",
    "conn.close()"
   ]
  },
  {
   "cell_type": "code",
   "execution_count": null,
   "id": "e79e719a-bc25-4af1-8106-9090bb7ffd16",
   "metadata": {},
   "outputs": [],
   "source": [
    "# Если хотим проверить добавились ли наши данные в таблицу, то просто введем следующий код чтобы удостовериться\n",
    "%%sql SELECT name, age FROM people;"
   ]
  }
 ],
 "metadata": {
  "kernelspec": {
   "display_name": "Python [conda env:base] *",
   "language": "python",
   "name": "conda-base-py"
  },
  "language_info": {
   "codemirror_mode": {
    "name": "ipython",
    "version": 3
   },
   "file_extension": ".py",
   "mimetype": "text/x-python",
   "name": "python",
   "nbconvert_exporter": "python",
   "pygments_lexer": "ipython3",
   "version": "3.12.7"
  }
 },
 "nbformat": 4,
 "nbformat_minor": 5
}
