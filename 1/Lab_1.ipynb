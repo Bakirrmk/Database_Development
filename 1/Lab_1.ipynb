{
 "cells": [
  {
   "cell_type": "markdown",
   "id": "eac50779-fc5d-4906-bd6e-89d1831addc7",
   "metadata": {},
   "source": [
    "БАЗА ДАННЫХ ФИЛЬМЫ"
   ]
  },
  {
   "cell_type": "markdown",
   "id": "b67bdf7e-dc54-4cc2-b828-40e94281ed64",
   "metadata": {},
   "source": [
    "Открываем Shell SQL\n",
    "Вводим параметры подключения (Enter) \n",
    "psql(17.2)"
   ]
  },
  {
   "cell_type": "markdown",
   "id": "6aaa4d61-0e27-4809-8412-7a6f1746dcc4",
   "metadata": {},
   "source": [
    "Создаем базу данных \"Фильмы\"\n",
    "Вводим следующую команду"
   ]
  },
  {
   "cell_type": "code",
   "execution_count": null,
   "id": "256165ba-dd97-4427-9907-a28ac0ffe2ce",
   "metadata": {},
   "outputs": [],
   "source": [
    "CREATE DATABASE movies;"
   ]
  },
  {
   "cell_type": "markdown",
   "id": "d892f4da-c463-4ce0-9ab0-638221770238",
   "metadata": {},
   "source": [
    "Далее подключаемся к нашей базе данных"
   ]
  },
  {
   "cell_type": "code",
   "execution_count": null,
   "id": "17097717-952c-48c4-9846-2b4c4647035e",
   "metadata": {},
   "outputs": [],
   "source": [
    "\\c movies"
   ]
  },
  {
   "cell_type": "markdown",
   "id": "e52699ef-4eaf-4a42-97b0-6de9f04fdbac",
   "metadata": {},
   "source": [
    "Теперь создадим таблицу для хранения информации о фильмах\n",
    "Пишем следующий код"
   ]
  },
  {
   "cell_type": "code",
   "execution_count": null,
   "id": "a6d09fe4-7838-4ada-a44f-2578568fadea",
   "metadata": {},
   "outputs": [],
   "source": [
    "CREATE TABLE movies (id SERIAL PRIMARY KEY, \n",
    "                     title VARCHAR(50) NOT NULL,\n",
    "                    release_year INTEGER NOT NULL, \n",
    "                     genre VARCHAR(20), rating DECIMAL(3,1)\n",
    "                    );"
   ]
  },
  {
   "cell_type": "markdown",
   "id": "d03ceeda-a8aa-498d-9a43-b40fa8432291",
   "metadata": {},
   "source": [
    "Теперь добавим несколько фильмов в таблицу"
   ]
  },
  {
   "cell_type": "code",
   "execution_count": null,
   "id": "cf0a4133-b93e-421e-920d-8a9a9bcca5ee",
   "metadata": {},
   "outputs": [],
   "source": [
    "INSERT INTO movies (title, release_year, genre, rating) VALUES ('Интерстеллар', 2014, 'Фантастика', 8.7),\n",
    "                            ('Начало', 2010, 'Фантастика', 8.8), ('Зеленая миля', 1999, 'Драма', 9.1), \n",
    "                            ('Побег из Шоушенка', 1994, 'Триллер', 9.3);"
   ]
  },
  {
   "cell_type": "markdown",
   "id": "7274b44c-3660-43f4-a620-6bda14880254",
   "metadata": {},
   "source": [
    "Посмотрим теперь наши данные из таблицы"
   ]
  },
  {
   "cell_type": "code",
   "execution_count": null,
   "id": "a0c9288d-d6ad-43d2-a4d4-a8b6620e7b1a",
   "metadata": {},
   "outputs": [],
   "source": [
    "SELECT * FROM movies;"
   ]
  },
  {
   "cell_type": "markdown",
   "id": "ff74da70-f219-4889-bffc-8dbb62de0c13",
   "metadata": {},
   "source": [
    "Cоздадим дополнительную таблицу с режиссерами"
   ]
  },
  {
   "cell_type": "code",
   "execution_count": null,
   "id": "c9c7a3fa-3130-4044-a8f6-52ac4a5826b0",
   "metadata": {},
   "outputs": [],
   "source": [
    "CREATE TABLE directors (id SERIAL PRIMARY KEY, name VARCHAR(50) NOT NULL, birth_year INTEGER);"
   ]
  },
  {
   "cell_type": "markdown",
   "id": "a427834e-2ab8-47eb-b35a-7863f911b045",
   "metadata": {},
   "source": [
    "Добавим режиссеров "
   ]
  },
  {
   "cell_type": "code",
   "execution_count": null,
   "id": "572a8b66-2b37-4d92-a3c9-092020f572e6",
   "metadata": {},
   "outputs": [],
   "source": [
    "INSERT INTO directors (name, birth_year) VALUES ('Кристофер Нолан', 1970), ('Фрэнк Дарабонт', 1959);"
   ]
  },
  {
   "cell_type": "markdown",
   "id": "bfcb6404-334b-459f-bf4c-30a21375de6e",
   "metadata": {},
   "source": [
    "При помощи команды \\dt мы можем проверить список всех таблиц, которые существуют в текущей базе данных"
   ]
  },
  {
   "cell_type": "markdown",
   "id": "d1f047f4-2f10-4b1d-a651-5cf37b5afa18",
   "metadata": {},
   "source": [
    "Чтобы выйти из sql вводим \\q"
   ]
  }
 ],
 "metadata": {
  "kernelspec": {
   "display_name": "Python [conda env:base] *",
   "language": "python",
   "name": "conda-base-py"
  },
  "language_info": {
   "codemirror_mode": {
    "name": "ipython",
    "version": 3
   },
   "file_extension": ".py",
   "mimetype": "text/x-python",
   "name": "python",
   "nbconvert_exporter": "python",
   "pygments_lexer": "ipython3",
   "version": "3.12.7"
  }
 },
 "nbformat": 4,
 "nbformat_minor": 5
}
