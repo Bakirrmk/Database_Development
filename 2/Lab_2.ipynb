{
 "cells": [
  {
   "cell_type": "markdown",
   "id": "f31e11b5-a420-4935-b92b-264fbff1e3e3",
   "metadata": {},
   "source": [
    "Лабораторная работа номер 2"
   ]
  },
  {
   "cell_type": "markdown",
   "id": "cd5c346a-b270-49e3-94d6-b72b63b544b5",
   "metadata": {},
   "source": [
    "Создадим отдельную таблицу Movie_Directors, которая будет связывать фильмы и режиссёров. Это позволит нам хранить многие-ко-многим отношения"
   ]
  },
  {
   "cell_type": "markdown",
   "id": "fe6b38f3-3860-49fd-806f-c701c39ebb2d",
   "metadata": {},
   "source": [
    "Заходим в SQL Shell < заходим в нашу базу данных < c\\ movies"
   ]
  },
  {
   "cell_type": "markdown",
   "id": "82d0f618-20c2-4b86-87fb-a0c829e6b802",
   "metadata": {},
   "source": [
    "Создаём таблицу Movie_Directors\n",
    "ВВодим следующий код"
   ]
  },
  {
   "cell_type": "code",
   "execution_count": null,
   "id": "3c6fe5b3-e041-493e-a5ed-e7e1b6078dec",
   "metadata": {},
   "outputs": [],
   "source": [
    "CREATE TABLE Movie_Directors (\n",
    "    movie_id INT,\n",
    "    director_id INT,\n",
    "    PRIMARY KEY (movie_id, director_id),\n",
    "    FOREIGN KEY (movie_id) REFERENCES Movies(id) ON DELETE CASCADE,\n",
    "    FOREIGN KEY (director_id) REFERENCES Directors(id) ON DELETE CASCADE\n",
    ");"
   ]
  },
  {
   "cell_type": "markdown",
   "id": "cb86d1e9-105f-454c-8e2c-2b51a6e6a0af",
   "metadata": {},
   "source": [
    "- movie_id INT — поле, хранящее идентификатор (id) фильма. Тип данных INT (целое число).\n",
    "- director_id INT — поле, хранящее идентификатор (id) режиссёра. Тоже INT.\n",
    "\n",
    "Эти два поля нужны, чтобы связать таблицу Movies с Directors.\n",
    "\n",
    "- PRIMARY KEY (первичный ключ) — уникальный идентификатор строки.\n",
    "- (movie_id, director_id) — составной ключ (он состоит из двух полей).\n",
    "\n",
    "Один фильм может иметь нескольких режиссёров, и один режиссёр может снимать несколько фильмов. Чтобы не было дубликатов, оба поля (movie_id и director_id) вместе образуют первичный ключ.\n",
    "\n",
    "- FOREIGN KEY (movie_id) — объявляем, что movie_id — внешний ключ.\n",
    "- REFERENCES Movies(id) — это поле ссылается на id таблицы Movies.\n",
    "- ON DELETE CASCADE — если фильм удалят из Movies, все связанные записи автоматически удалятся из Movie_Directors.\n",
    "\n",
    "Аналогично:\n",
    "\n",
    "- director_id — внешний ключ.\n",
    "- Ссылается на id таблицы Directors.\n",
    "- ON DELETE CASCADE — если удалим режиссёра, все его фильмы в Movie_Directors удалятся."
   ]
  },
  {
   "cell_type": "markdown",
   "id": "9b984942-9433-47c3-92a6-7ef713195e24",
   "metadata": {},
   "source": [
    "После того как создали таблицу, теперь заполним ее данными \n",
    "Свяжем фильмы с их режиссерами"
   ]
  },
  {
   "cell_type": "code",
   "execution_count": null,
   "id": "8b5d0574-0464-4d9b-baff-661ccef8595e",
   "metadata": {},
   "outputs": [],
   "source": [
    "INSERT INTO Movie_Directors (movie_id, director_id)\n",
    "SELECT id, (SELECT id FROM Directors WHERE name = 'Лана Вачовски') FROM Movies WHERE title = 'Матрица';\n",
    "\n",
    "INSERT INTO Movie_Directors (movie_id, director_id)\n",
    "SELECT id, (SELECT id FROM directors WHERE name = 'Джеймс Кэмерон') FROM movies WHERE title IN ('Титаник', 'Аватар');\n",
    "\n",
    "INSERT INTO movie_directors (movie_id, director_id)\n",
    "SELECT id, (SELECT id FROM directors WHERE name = 'Стивен Спилберг') FROM movies WHERE title = 'Список Шиндлера';\n",
    "\n",
    "INSERT INTO movie_directors (movie_id, director_id)\n",
    "SELECT id, (SELECT id FROM directors WHERE name = 'Роберт Земекис') FROM movies WHERE title = 'Форрест Гамп';\n",
    "\n",
    "INSERT INTO movie_directors (movie_id, director_id)\n",
    "SELECT id, (SELECT id FROM directors WHERE name = 'Квентин Тарантино') FROM movies WHERE title = 'Криминальное чтиво';\n",
    "\n",
    "INSERT INTO movie_directors (movie_id, director_id)\n",
    "SELECT id, (SELECT id FROM directors WHERE name = 'Питер Джексон') FROM movies WHERE title IN (\n",
    "    'Властелин колец: Братство кольца', 'Властелин колец: Две крепости', 'Властелин колец: Возвращение короля',\n",
    "    'Хоббит: Нежданное путешествие', 'Хоббит: Пустошь Смауга', 'Хоббит: Битва пяти воинств');\n",
    "\n",
    "INSERT INTO movie_directors (movie_id, director_id)\n",
    "SELECT id, (SELECT id FROM directors WHERE name = 'Кристофер Нолан') FROM movies WHERE title = 'Темный рыцарь';\n",
    "\n",
    "INSERT INTO movie_directors (movie_id, director_id)\n",
    "SELECT id, (SELECT id FROM directors WHERE name = 'Крис Коламбус') FROM movies WHERE title IN ('Гарри Поттер и философский камень', 'Гарри Поттер и тайная комната');\n",
    "\n",
    "INSERT INTO movie_directors (movie_id, director_id)\n",
    "SELECT id, (SELECT id FROM directors WHERE name = 'Альфонсо Куарон') FROM movies WHERE title = 'Гарри Поттер и узник Азкабана';\n",
    "\n",
    "INSERT INTO movie_directors (movie_id, director_id)\n",
    "SELECT id, (SELECT id FROM directors WHERE name = 'Майк Ньюэлл') FROM movies WHERE title = 'Гарри Поттер и Кубок огня';\n",
    "\n",
    "INSERT INTO movie_directors (movie_id, director_id)\n",
    "SELECT id, (SELECT id FROM directors WHERE name = 'Дэвид Йейтс') FROM movies WHERE title IN ('Гарри Поттер и Орден Феникса', 'Гарри Поттер и Принц-полукровка', 'Гарри Поттер и Дары Смерти: Часть 1', 'Гарри Поттер и Дары Смерти: Часть 2');\n",
    "\n",
    "INSERT INTO movie_directors (movie_id, director_id)\n",
    "SELECT id, (SELECT id FROM directors WHERE name = 'Гор Вербински') FROM movies WHERE title IN ('Пираты Карибского моря: Проклятие Черной жемчужины', 'Пираты Карибского моря: Сундук мертвеца', 'Пираты Карибского моря: На краю света');\n",
    "\n",
    "INSERT INTO movie_directors (movie_id, director_id)\n",
    "SELECT id, (SELECT id FROM directors WHERE name = 'Роб Маршалл') FROM movies WHERE title = 'Пираты Карибского моря: На странных берегах';\n"
   ]
  },
  {
   "cell_type": "markdown",
   "id": "5200c4da-a318-42f1-8aa2-e940d151e9a6",
   "metadata": {},
   "source": [
    "Теперь проверим нашу связь \n",
    "Можем вывести список фильм с их режиссерами "
   ]
  },
  {
   "cell_type": "code",
   "execution_count": null,
   "id": "b94c7a2f-14ea-4e5a-a095-beb8d48ef31c",
   "metadata": {},
   "outputs": [],
   "source": [
    "SELECT Movies.title, Movies.release_year, Movies.genre, Movies.rating, Directors.name AS director\n",
    "FROM Movie_Directors\n",
    "JOIN Movies ON Movie_Directors.movie_id = Movies.id\n",
    "JOIN Directors ON Movie_Directors.director_id = Directors.id;"
   ]
  },
  {
   "cell_type": "markdown",
   "id": "18a5bc6a-b3af-4d12-b195-0d2a94312f9a",
   "metadata": {},
   "source": [
    "SELECT — указывает, какие столбцы выбрать:\n",
    "\n",
    "- Movies.title — название фильма.\n",
    "- Movies.release_year — год выпуска.\n",
    "- Movies.genre — жанр.\n",
    "- Movies.rating — рейтинг.\n",
    "- Directors.name AS director — имя режиссёра (переименовано в director).\n",
    "\n",
    "- Таблица Movie_Directors — это связующая таблица между Movies и Directors.\n",
    "- В ней есть movie_id и director_id, которые соединяют фильмы и режиссёров.\n",
    "\n",
    "- JOIN Movies — присоединяем таблицу Movies.\n",
    "- ON Movie_Directors.movie_id = Movies.id — связываем фильмы по id.\n",
    "\n",
    "- JOIN Directors — присоединяем таблицу режиссёров.\n",
    "- ON Movie_Directors.director_id = Directors.id — связываем режиссёров по id."
   ]
  }
 ],
 "metadata": {
  "kernelspec": {
   "display_name": "Python [conda env:base] *",
   "language": "python",
   "name": "conda-base-py"
  },
  "language_info": {
   "codemirror_mode": {
    "name": "ipython",
    "version": 3
   },
   "file_extension": ".py",
   "mimetype": "text/x-python",
   "name": "python",
   "nbconvert_exporter": "python",
   "pygments_lexer": "ipython3",
   "version": "3.12.7"
  }
 },
 "nbformat": 4,
 "nbformat_minor": 5
}
